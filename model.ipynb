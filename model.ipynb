{
 "cells": [
  {
   "cell_type": "code",
   "execution_count": 3,
   "metadata": {},
   "outputs": [],
   "source": [
    "import tensorflow as tf\n",
    "from tensorflow import keras\n",
    "from keras.models import Sequential\n",
    "from keras.layers import Dense\n",
    "import numpy as np"
   ]
  },
  {
   "attachments": {},
   "cell_type": "markdown",
   "metadata": {},
   "source": [
    "# Loading the images"
   ]
  },
  {
   "cell_type": "code",
   "execution_count": 4,
   "metadata": {},
   "outputs": [
    {
     "name": "stdout",
     "output_type": "stream",
     "text": [
      "loaded 6192  samples\n",
      "classes {'cats', 'dogs'}\n"
     ]
    }
   ],
   "source": [
    "import cv2\n",
    "import os\n",
    "def load_img(indir):\n",
    "    samples = []\n",
    "    labels = []\n",
    "    for class_dir in os.listdir(indir):\n",
    "        the_class = class_dir\n",
    "        for file in os.listdir(indir+'/'+class_dir):\n",
    "            image = cv2.imread(\"{}/{}/{}\".format(indir,class_dir,file))\n",
    "            image = cv2.resize(image, (128,128))\n",
    "            samples.append(image)\n",
    "            labels.append(the_class)\n",
    "    samples = np.array(samples)\n",
    "    labels = np.array(labels)\n",
    "    return samples,labels\n",
    "samples, labels = load_img('dataset')\n",
    "print('loaded',len(samples),' samples')\n",
    "\n",
    "labels[labels=='new_cats']='cats'\n",
    "labels[labels=='new_dogs']='dogs'\n",
    "\n",
    "print('classes',set(labels))\n",
    "\n",
    "# normalization\n",
    "samples = samples / 255.0"
   ]
  },
  {
   "attachments": {},
   "cell_type": "markdown",
   "metadata": {},
   "source": [
    "# One-hot encoding"
   ]
  },
  {
   "cell_type": "code",
   "execution_count": 5,
   "metadata": {},
   "outputs": [
    {
     "name": "stdout",
     "output_type": "stream",
     "text": [
      "One-hot labels (6192, 2)\n"
     ]
    }
   ],
   "source": [
    "from sklearn.preprocessing import LabelEncoder \n",
    "\n",
    "encoder = LabelEncoder() # encoder\n",
    "intlabels = encoder.fit_transform(labels)\n",
    "labels = tf.keras.utils.to_categorical(intlabels)\n",
    "print(\"One-hot labels\",labels.shape)"
   ]
  },
  {
   "cell_type": "code",
   "execution_count": 6,
   "metadata": {},
   "outputs": [],
   "source": [
    "import sklearn.model_selection\n",
    "(trainSamples, testSamples, trainLabels, testLables) = sklearn.model_selection.train_test_split(samples,labels,random_state=42)"
   ]
  },
  {
   "attachments": {},
   "cell_type": "markdown",
   "metadata": {},
   "source": [
    "# Creating the model"
   ]
  },
  {
   "cell_type": "code",
   "execution_count": 7,
   "metadata": {},
   "outputs": [
    {
     "name": "stdout",
     "output_type": "stream",
     "text": [
      "Model: \"sequential\"\n",
      "_________________________________________________________________\n",
      " Layer (type)                Output Shape              Param #   \n",
      "=================================================================\n",
      " conv2d (Conv2D)             (None, 128, 128, 16)      448       \n",
      "                                                                 \n",
      " activation (Activation)     (None, 128, 128, 16)      0         \n",
      "                                                                 \n",
      " max_pooling2d (MaxPooling2D  (None, 64, 64, 16)       0         \n",
      " )                                                               \n",
      "                                                                 \n",
      " conv2d_1 (Conv2D)           (None, 64, 64, 32)        4640      \n",
      "                                                                 \n",
      " activation_1 (Activation)   (None, 64, 64, 32)        0         \n",
      "                                                                 \n",
      " dropout (Dropout)           (None, 64, 64, 32)        0         \n",
      "                                                                 \n",
      " max_pooling2d_1 (MaxPooling  (None, 32, 32, 32)       0         \n",
      " 2D)                                                             \n",
      "                                                                 \n",
      " conv2d_2 (Conv2D)           (None, 32, 32, 64)        18496     \n",
      "                                                                 \n",
      " activation_2 (Activation)   (None, 32, 32, 64)        0         \n",
      "                                                                 \n",
      " dropout_1 (Dropout)         (None, 32, 32, 64)        0         \n",
      "                                                                 \n",
      " max_pooling2d_2 (MaxPooling  (None, 16, 16, 64)       0         \n",
      " 2D)                                                             \n",
      "                                                                 \n",
      " flatten (Flatten)           (None, 16384)             0         \n",
      "                                                                 \n",
      " dense (Dense)               (None, 512)               8389120   \n",
      "                                                                 \n",
      " activation_3 (Activation)   (None, 512)               0         \n",
      "                                                                 \n",
      " dense_1 (Dense)             (None, 300)               153900    \n",
      "                                                                 \n",
      " activation_4 (Activation)   (None, 300)               0         \n",
      "                                                                 \n",
      " dense_2 (Dense)             (None, 2)                 602       \n",
      "                                                                 \n",
      " activation_5 (Activation)   (None, 2)                 0         \n",
      "                                                                 \n",
      "=================================================================\n",
      "Total params: 8,567,206\n",
      "Trainable params: 8,567,206\n",
      "Non-trainable params: 0\n",
      "_________________________________________________________________\n"
     ]
    }
   ],
   "source": [
    "from keras.models import Sequential\n",
    "from keras.layers import Dense, Activation, Dropout, Flatten, Conv2D, MaxPooling2D, BatchNormalization\n",
    "\n",
    "model = Sequential()\n",
    "model.add(Conv2D(16, (3, 3), padding=\"same\",input_shape=(128,128,3)))\n",
    "model.add(Activation(\"relu\"))\n",
    "model.add(MaxPooling2D(pool_size=(2, 2)))\n",
    "model.add(Conv2D(32, (3, 3), padding=\"same\"))\n",
    "model.add(Activation(\"relu\"))\n",
    "model.add(Dropout(0.25))\n",
    "model.add(MaxPooling2D(pool_size=(2, 2)))\n",
    "model.add(Conv2D(64, (3, 3), padding=\"same\"))\n",
    "model.add(Activation(\"relu\"))\n",
    "model.add(Dropout(0.25))\n",
    "model.add(MaxPooling2D(pool_size=(2, 2)))\n",
    "\n",
    "model.add(Flatten())\n",
    "model.add(Dense(512))\n",
    "model.add(Activation(\"relu\"))\n",
    "model.add(Dense(300))\n",
    "model.add(Activation(\"relu\"))\n",
    "model.add(Dense(2))\n",
    "model.add(Activation(\"softmax\"))\n",
    "\n",
    "model.summary()"
   ]
  },
  {
   "cell_type": "code",
   "execution_count": 8,
   "metadata": {},
   "outputs": [],
   "source": [
    "model.compile(loss='categorical_crossentropy', optimizer='adam',metrics=['accuracy'])"
   ]
  },
  {
   "cell_type": "code",
   "execution_count": 9,
   "metadata": {},
   "outputs": [
    {
     "name": "stdout",
     "output_type": "stream",
     "text": [
      "Epoch 1/30\n",
      "47/47 [==============================] - 39s 815ms/step - loss: 0.8651 - accuracy: 0.5360 - val_loss: 0.6409 - val_accuracy: 0.6944\n",
      "Epoch 2/30\n",
      "47/47 [==============================] - 38s 813ms/step - loss: 0.5619 - accuracy: 0.7117 - val_loss: 0.5199 - val_accuracy: 0.7739\n",
      "Epoch 3/30\n",
      "47/47 [==============================] - 42s 891ms/step - loss: 0.4017 - accuracy: 0.8234 - val_loss: 0.4649 - val_accuracy: 0.7804\n",
      "Epoch 4/30\n",
      "47/47 [==============================] - 43s 911ms/step - loss: 0.2747 - accuracy: 0.8898 - val_loss: 0.3654 - val_accuracy: 0.8372\n",
      "Epoch 5/30\n",
      "47/47 [==============================] - 47s 996ms/step - loss: 0.1688 - accuracy: 0.9309 - val_loss: 0.3371 - val_accuracy: 0.8566\n",
      "Epoch 6/30\n",
      "47/47 [==============================] - 49s 1s/step - loss: 0.1005 - accuracy: 0.9632 - val_loss: 0.2608 - val_accuracy: 0.8889\n",
      "Epoch 7/30\n",
      "47/47 [==============================] - 50s 1s/step - loss: 0.0857 - accuracy: 0.9660 - val_loss: 0.2320 - val_accuracy: 0.9102\n",
      "Epoch 8/30\n",
      "47/47 [==============================] - 53s 1s/step - loss: 0.0525 - accuracy: 0.9815 - val_loss: 0.2171 - val_accuracy: 0.9193\n",
      "Epoch 9/30\n",
      "47/47 [==============================] - 41s 872ms/step - loss: 0.0430 - accuracy: 0.9851 - val_loss: 0.2401 - val_accuracy: 0.9037\n",
      "Epoch 10/30\n",
      "47/47 [==============================] - 47s 1s/step - loss: 0.0137 - accuracy: 0.9961 - val_loss: 0.2312 - val_accuracy: 0.9199\n",
      "Epoch 11/30\n",
      "47/47 [==============================] - 45s 956ms/step - loss: 0.0151 - accuracy: 0.9955 - val_loss: 0.1868 - val_accuracy: 0.9270\n",
      "Epoch 12/30\n",
      "47/47 [==============================] - 43s 909ms/step - loss: 0.0278 - accuracy: 0.9897 - val_loss: 0.2334 - val_accuracy: 0.9083\n",
      "Epoch 13/30\n",
      "47/47 [==============================] - 42s 905ms/step - loss: 0.0467 - accuracy: 0.9843 - val_loss: 0.1834 - val_accuracy: 0.9341\n",
      "Epoch 14/30\n",
      "47/47 [==============================] - 43s 915ms/step - loss: 0.0239 - accuracy: 0.9927 - val_loss: 0.2013 - val_accuracy: 0.9225\n",
      "Epoch 15/30\n",
      "47/47 [==============================] - 42s 898ms/step - loss: 0.0072 - accuracy: 0.9983 - val_loss: 0.1674 - val_accuracy: 0.9419\n",
      "Epoch 16/30\n",
      "47/47 [==============================] - 43s 915ms/step - loss: 0.0025 - accuracy: 0.9998 - val_loss: 0.1719 - val_accuracy: 0.9393\n",
      "Epoch 17/30\n",
      "47/47 [==============================] - 45s 949ms/step - loss: 8.5593e-04 - accuracy: 1.0000 - val_loss: 0.1576 - val_accuracy: 0.9451\n",
      "Epoch 18/30\n",
      "47/47 [==============================] - 45s 966ms/step - loss: 4.0089e-04 - accuracy: 1.0000 - val_loss: 0.1689 - val_accuracy: 0.9496\n",
      "Epoch 19/30\n",
      "47/47 [==============================] - 43s 922ms/step - loss: 2.7522e-04 - accuracy: 1.0000 - val_loss: 0.1751 - val_accuracy: 0.9470\n",
      "Epoch 20/30\n",
      "47/47 [==============================] - 43s 909ms/step - loss: 1.8999e-04 - accuracy: 1.0000 - val_loss: 0.1662 - val_accuracy: 0.9503\n",
      "Epoch 00020: early stopping\n"
     ]
    },
    {
     "data": {
      "text/plain": [
       "<keras.callbacks.History at 0x187e81d3910>"
      ]
     },
     "execution_count": 9,
     "metadata": {},
     "output_type": "execute_result"
    }
   ],
   "source": [
    "from tensorflow.python.keras.callbacks import ModelCheckpoint, EarlyStopping\n",
    "\n",
    "EPOCHS = 30\n",
    "BATCH_SIZE = 100\n",
    "checkpt = ModelCheckpoint (filepath='model.h5', save_best_only=True)\n",
    "estopping = EarlyStopping(monitor='val_loss', patience=3, verbose=1)\n",
    "\n",
    "model.fit(trainSamples, trainLabels, epochs=EPOCHS, batch_size=BATCH_SIZE, validation_data=(testSamples, testLables), callbacks=[checkpt, estopping])"
   ]
  },
  {
   "attachments": {},
   "cell_type": "markdown",
   "metadata": {},
   "source": [
    "# Results"
   ]
  },
  {
   "cell_type": "code",
   "execution_count": 10,
   "metadata": {},
   "outputs": [
    {
     "name": "stdout",
     "output_type": "stream",
     "text": [
      "49/49 [==============================] - 3s 67ms/step\n",
      "[[748  29]\n",
      " [ 48 723]]\n",
      "              precision    recall  f1-score   support\n",
      "\n",
      "           0       0.94      0.96      0.95       777\n",
      "           1       0.96      0.94      0.95       771\n",
      "\n",
      "    accuracy                           0.95      1548\n",
      "   macro avg       0.95      0.95      0.95      1548\n",
      "weighted avg       0.95      0.95      0.95      1548\n",
      "\n",
      "CNN Accuracy: 0.95\n",
      "Cohen's Kappa: 0.90\n"
     ]
    }
   ],
   "source": [
    "from sklearn.metrics import classification_report, confusion_matrix, accuracy_score, cohen_kappa_score\n",
    "testResults = model.predict(testSamples)\n",
    "\n",
    "print(confusion_matrix(testLables.argmax(axis=1), testResults.argmax(axis=1)))\n",
    "print(classification_report(testLables.argmax(axis=1), testResults.argmax(axis=1)))\n",
    "print(\"CNN Accuracy: {:.2f}\".format(accuracy_score(testLables.argmax(axis=1), testResults.argmax(axis=1))))\n",
    "print(\"Cohen's Kappa: {:.2f}\".format(cohen_kappa_score(testLables.argmax(axis=1), testResults.argmax(axis=1))))"
   ]
  },
  {
   "cell_type": "code",
   "execution_count": 11,
   "metadata": {},
   "outputs": [
    {
     "name": "stderr",
     "output_type": "stream",
     "text": [
      "WARNING:absl:Found untraced functions such as _jit_compiled_convolution_op, _jit_compiled_convolution_op, _jit_compiled_convolution_op while saving (showing 3 of 3). These functions will not be directly callable after loading.\n"
     ]
    },
    {
     "name": "stdout",
     "output_type": "stream",
     "text": [
      "INFO:tensorflow:Assets written to: model\\assets\n"
     ]
    },
    {
     "name": "stderr",
     "output_type": "stream",
     "text": [
      "INFO:tensorflow:Assets written to: model\\assets\n"
     ]
    }
   ],
   "source": [
    "tf.saved_model.save(model,'model')"
   ]
  },
  {
   "cell_type": "code",
   "execution_count": 12,
   "metadata": {},
   "outputs": [
    {
     "name": "stdout",
     "output_type": "stream",
     "text": [
      "Model: \"sequential_2\"\n",
      "_________________________________________________________________\n",
      "Layer (type)                 Output Shape              Param #   \n",
      "=================================================================\n",
      "conv2d_6 (Conv2D)            (None, 128, 128, 16)      448       \n",
      "_________________________________________________________________\n",
      "activation_12 (Activation)   (None, 128, 128, 16)      0         \n",
      "_________________________________________________________________\n",
      "max_pooling2d_6 (MaxPooling2 (None, 64, 64, 16)        0         \n",
      "_________________________________________________________________\n",
      "conv2d_7 (Conv2D)            (None, 64, 64, 32)        4640      \n",
      "_________________________________________________________________\n",
      "activation_13 (Activation)   (None, 64, 64, 32)        0         \n",
      "_________________________________________________________________\n",
      "dropout_4 (Dropout)          (None, 64, 64, 32)        0         \n",
      "_________________________________________________________________\n",
      "max_pooling2d_7 (MaxPooling2 (None, 32, 32, 32)        0         \n",
      "_________________________________________________________________\n",
      "conv2d_8 (Conv2D)            (None, 32, 32, 64)        18496     \n",
      "_________________________________________________________________\n",
      "activation_14 (Activation)   (None, 32, 32, 64)        0         \n",
      "_________________________________________________________________\n",
      "dropout_5 (Dropout)          (None, 32, 32, 64)        0         \n",
      "_________________________________________________________________\n",
      "max_pooling2d_8 (MaxPooling2 (None, 16, 16, 64)        0         \n",
      "_________________________________________________________________\n",
      "flatten_2 (Flatten)          (None, 16384)             0         \n",
      "_________________________________________________________________\n",
      "dense_6 (Dense)              (None, 512)               8389120   \n",
      "_________________________________________________________________\n",
      "activation_15 (Activation)   (None, 512)               0         \n",
      "_________________________________________________________________\n",
      "dense_7 (Dense)              (None, 300)               153900    \n",
      "_________________________________________________________________\n",
      "activation_16 (Activation)   (None, 300)               0         \n",
      "_________________________________________________________________\n",
      "dense_8 (Dense)              (None, 2)                 602       \n",
      "_________________________________________________________________\n",
      "activation_17 (Activation)   (None, 2)                 0         \n",
      "=================================================================\n",
      "Total params: 8,567,206\n",
      "Trainable params: 8,567,206\n",
      "Non-trainable params: 0\n",
      "_________________________________________________________________\n"
     ]
    }
   ],
   "source": [
    "from tensorflow.python.keras.models import load_model\n",
    "model = load_model(\"final_model.h5\") ### add the correct model name!!!\n",
    "model.summary()"
   ]
  }
 ],
 "metadata": {
  "kernelspec": {
   "display_name": "Python 3",
   "language": "python",
   "name": "python3"
  },
  "language_info": {
   "codemirror_mode": {
    "name": "ipython",
    "version": 3
   },
   "file_extension": ".py",
   "mimetype": "text/x-python",
   "name": "python",
   "nbconvert_exporter": "python",
   "pygments_lexer": "ipython3",
   "version": "3.10.7"
  },
  "orig_nbformat": 4,
  "vscode": {
   "interpreter": {
    "hash": "865d8b2eb28e274047ba64063dfb6a2aabf0dfec4905d304d7a76618dae6fdd4"
   }
  }
 },
 "nbformat": 4,
 "nbformat_minor": 2
}
